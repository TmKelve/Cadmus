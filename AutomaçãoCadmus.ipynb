{
 "cells": [
  {
   "cell_type": "code",
   "execution_count": 65,
   "metadata": {},
   "outputs": [],
   "source": [
    "#Importando as bibliotecas \n",
    "import pandas as pd\n",
    "import requests\n",
    "import win32com.client as win32\n",
    "from datetime import date\n",
    "from bs4 import BeautifulSoup\n",
    "\n"
   ]
  },
  {
   "cell_type": "code",
   "execution_count": 66,
   "metadata": {},
   "outputs": [
    {
     "name": "stdout",
     "output_type": "stream",
     "text": [
      "Requisição bem sucedida!\n"
     ]
    }
   ],
   "source": [
    "#Fazendo Requests para verificar o site\n",
    "req = requests.get('https://cadmus.com.br/vagas-tecnologia/')\n",
    "if req.status_code == 200:\n",
    "    print('Requisição bem sucedida!')\n",
    "    content = req.content"
   ]
  },
  {
   "cell_type": "code",
   "execution_count": 67,
   "metadata": {},
   "outputs": [],
   "source": [
    "#Importando os Requests\n",
    "import requests"
   ]
  },
  {
   "cell_type": "code",
   "execution_count": 68,
   "metadata": {},
   "outputs": [],
   "source": [
    "#Tranformando conteudo da pagina em String\n",
    "\n",
    "html_vagas = \"\"\"<div id=\"pfolio\" class=\"row d-flex justify-content-center animate slideInUp 1s animated null\" style=\"position: relative; height: 1879.17px;\"><div class=\"item col-md-3 text-center mt-4 portfolio-item Backend\" data-animation=\"slideInUp\" data-delay=\"1s\" style=\"position: absolute; left: 0px; top: 0px;\"><div class=\"box\"><h3>Analista de Sistemas Sênior </h3><p class=\"local\"><i class=\"fas fa-map-marker-alt\"></i> Morumbi - SP </p><p class=\"link-vagas m-0\"><a class=\"btn azul\" href=\"vem-ser-cadmus\" onclick=\"javascript:AbrirOportunidade('0');\">Ver detalhes da vaga</a></p></div></div><div class=\"item col-md-3 text-center mt-4 portfolio-item Infra\" data-animation=\"slideInUp\" data-delay=\"1s\" style=\"position: absolute; left: 225px; top: 0px;\"><div class=\"box\"><h3>Analista de Infraestrutura Bilingue</h3><p class=\"local\"><i class=\"fas fa-map-marker-alt\"></i> Alphaville - SP </p><p class=\"link-vagas m-0\"><a class=\"btn azul\" href=\"vem-ser-cadmus\" onclick=\"javascript:AbrirOportunidade('1');\">Ver detalhes da vaga</a></p></div></div><div class=\"item col-md-3 text-center mt-4 portfolio-item Frontend\" data-animation=\"slideInUp\" data-delay=\"1s\" style=\"position: absolute; left: 450px; top: 0px;\"><div class=\"box\"><h3>Analista de Teste </h3><p class=\"local\"><i class=\"fas fa-map-marker-alt\"></i> Home Office </p><p class=\"link-vagas m-0\"><a class=\"btn azul\" href=\"vem-ser-cadmus\" onclick=\"javascript:AbrirOportunidade('2');\">Ver detalhes da vaga</a></p></div></div><div class=\"item col-md-3 text-center mt-4 portfolio-item Agile\" data-animation=\"slideInUp\" data-delay=\"1s\" style=\"position: absolute; left: 675px; top: 0px;\"><div class=\"box\"><h3>Analista Jurídico Pl II</h3><p class=\"local\"><i class=\"fas fa-map-marker-alt\"></i> Alphaville - SP </p><p class=\"link-vagas m-0\"><a class=\"btn azul\" href=\"vem-ser-cadmus\" onclick=\"javascript:AbrirOportunidade('3');\">Ver detalhes da vaga</a></p></div></div><div class=\"item col-md-3 text-center mt-4 portfolio-item Agile\" data-animation=\"slideInUp\" data-delay=\"1s\" style=\"position: absolute; left: 0px; top: 208px;\"><div class=\"box\"><h3>Analista BI</h3><p class=\"local\"><i class=\"fas fa-map-marker-alt\"></i> Home Office  </p><p class=\"link-vagas m-0\"><a class=\"btn azul\" href=\"vem-ser-cadmus\" onclick=\"javascript:AbrirOportunidade('4');\">Ver detalhes da vaga</a></p></div></div><div class=\"item col-md-3 text-center mt-4 portfolio-item Agile\" data-animation=\"slideInUp\" data-delay=\"1s\" style=\"position: absolute; left: 225px; top: 208px;\"><div class=\"box\"><h3>Scrum Master</h3><p class=\"local\"><i class=\"fas fa-map-marker-alt\"></i> Home Office </p><p class=\"link-vagas m-0\"><a class=\"btn azul\" href=\"vem-ser-cadmus\" onclick=\"javascript:AbrirOportunidade('5');\">Ver detalhes da vaga</a></p></div></div><div class=\"item col-md-3 text-center mt-4 portfolio-item Fullstack\" data-animation=\"slideInUp\" data-delay=\"1s\" style=\"position: absolute; left: 450px; top: 208px;\"><div class=\"box\"><h3>Tech Lead - Mobile </h3><p class=\"local\"><i class=\"fas fa-map-marker-alt\"></i> Home office </p><p class=\"link-vagas m-0\"><a class=\"btn azul\" href=\"vem-ser-cadmus\" onclick=\"javascript:AbrirOportunidade('6');\">Ver detalhes da vaga</a></p></div></div><div class=\"item col-md-3 text-center mt-4 portfolio-item Agile\" data-animation=\"slideInUp\" data-delay=\"1s\" style=\"position: absolute; left: 675px; top: 208px;\"><div class=\"box\"><h3>Agile Master </h3><p class=\"local\"><i class=\"fas fa-map-marker-alt\"></i> Home Office </p><p class=\"link-vagas m-0\"><a class=\"btn azul\" href=\"vem-ser-cadmus\" onclick=\"javascript:AbrirOportunidade('7');\">Ver detalhes da vaga</a></p></div></div><div class=\"item col-md-3 text-center mt-4 portfolio-item Fullstack\" data-animation=\"slideInUp\" data-delay=\"1s\" style=\"position: absolute; left: 0px; top: 417px;\"><div class=\"box\"><h3>Desenvolvedor Mobile - Flutter </h3><p class=\"local\"><i class=\"fas fa-map-marker-alt\"></i> home office </p><p class=\"link-vagas m-0\"><a class=\"btn azul\" href=\"vem-ser-cadmus\" onclick=\"javascript:AbrirOportunidade('8');\">Ver detalhes da vaga</a></p></div></div><div class=\"item col-md-3 text-center mt-4 portfolio-item Backend\" data-animation=\"slideInUp\" data-delay=\"1s\" style=\"position: absolute; left: 225px; top: 417px;\"><div class=\"box\"><h3>Engenheiro de Software Java Especialista</h3><p class=\"local\"><i class=\"fas fa-map-marker-alt\"></i> São Paulo </p><p class=\"link-vagas m-0\"><a class=\"btn azul\" href=\"vem-ser-cadmus\" onclick=\"javascript:AbrirOportunidade('9');\">Ver detalhes da vaga</a></p></div></div><div class=\"item col-md-3 text-center mt-4 portfolio-item Fullstack\" data-animation=\"slideInUp\" data-delay=\"1s\" style=\"position: absolute; left: 450px; top: 417px;\"><div class=\"box\"><h3>Desenvolvedor Móbile Sênior</h3><p class=\"local\"><i class=\"fas fa-map-marker-alt\"></i> São Paulo </p><p class=\"link-vagas m-0\"><a class=\"btn azul\" href=\"vem-ser-cadmus\" onclick=\"javascript:AbrirOportunidade('10');\">Ver detalhes da vaga</a></p></div></div><div class=\"item col-md-3 text-center mt-4 portfolio-item Backend\" data-animation=\"slideInUp\" data-delay=\"1s\" style=\"position: absolute; left: 675px; top: 417px;\"><div class=\"box\"><h3>Desenvolvedor Backend Sr</h3><p class=\"local\"><i class=\"fas fa-map-marker-alt\"></i> São Paulo </p><p class=\"link-vagas m-0\"><a class=\"btn azul\" href=\"vem-ser-cadmus\" onclick=\"javascript:AbrirOportunidade('11');\">Ver detalhes da vaga</a></p></div></div><div class=\"item col-md-3 text-center mt-4 portfolio-item Fullstack\" data-animation=\"slideInUp\" data-delay=\"1s\" style=\"position: absolute; left: 0px; top: 626px;\"><div class=\"box\"><h3>Engenheiro de Software Sr (.NET Core e/ou Node.js)</h3><p class=\"local\"><i class=\"fas fa-map-marker-alt\"></i> São Paulo </p><p class=\"link-vagas m-0\"><a class=\"btn azul\" href=\"vem-ser-cadmus\" onclick=\"javascript:AbrirOportunidade('12');\">Ver detalhes da vaga</a></p></div></div><div class=\"item col-md-3 text-center mt-4 portfolio-item Backend\" data-animation=\"slideInUp\" data-delay=\"1s\" style=\"position: absolute; left: 225px; top: 626px;\"><div class=\"box\"><h3>Analista SOA.</h3><p class=\"local\"><i class=\"fas fa-map-marker-alt\"></i> São Paulo </p><p class=\"link-vagas m-0\"><a class=\"btn azul\" href=\"vem-ser-cadmus\" onclick=\"javascript:AbrirOportunidade('13');\">Ver detalhes da vaga</a></p></div></div><div class=\"item col-md-3 text-center mt-4 portfolio-item Frontend\" data-animation=\"slideInUp\" data-delay=\"1s\" style=\"position: absolute; left: 450px; top: 626px;\"><div class=\"box\"><h3>UX/UI Designer Pleno</h3><p class=\"local\"><i class=\"fas fa-map-marker-alt\"></i> Home Office </p><p class=\"link-vagas m-0\"><a class=\"btn azul\" href=\"vem-ser-cadmus\" onclick=\"javascript:AbrirOportunidade('14');\">Ver detalhes da vaga</a></p></div></div><div class=\"item col-md-3 text-center mt-4 portfolio-item Backend\" data-animation=\"slideInUp\" data-delay=\"1s\" style=\"position: absolute; left: 675px; top: 626px;\"><div class=\"box\"><h3> Desenvolvedor Back End NodeJS </h3><p class=\"local\"><i class=\"fas fa-map-marker-alt\"></i> Home office </p><p class=\"link-vagas m-0\"><a class=\"btn azul\" href=\"vem-ser-cadmus\" onclick=\"javascript:AbrirOportunidade('15');\">Ver detalhes da vaga</a></p></div></div><div class=\"item col-md-3 text-center mt-4 portfolio-item Agile\" data-animation=\"slideInUp\" data-delay=\"1s\" style=\"position: absolute; left: 0px; top: 835px;\"><div class=\"box\"><h3>Scrum Master</h3><p class=\"local\"><i class=\"fas fa-map-marker-alt\"></i> Home Office </p><p class=\"link-vagas m-0\"><a class=\"btn azul\" href=\"vem-ser-cadmus\" onclick=\"javascript:AbrirOportunidade('16');\">Ver detalhes da vaga</a></p></div></div><div class=\"item col-md-3 text-center mt-4 portfolio-item Agile\" data-animation=\"slideInUp\" data-delay=\"1s\" style=\"position: absolute; left: 225px; top: 835px;\"><div class=\"box\"><h3>Scrum Master </h3><p class=\"local\"><i class=\"fas fa-map-marker-alt\"></i> Home Office  </p><p class=\"link-vagas m-0\"><a class=\"btn azul\" href=\"vem-ser-cadmus\" onclick=\"javascript:AbrirOportunidade('17');\">Ver detalhes da vaga</a></p></div></div><div class=\"item col-md-3 text-center mt-4 portfolio-item Backend\" data-animation=\"slideInUp\" data-delay=\"1s\" style=\"position: absolute; left: 450px; top: 835px;\"><div class=\"box\"><h3>Desenvolvedor .NET </h3><p class=\"local\"><i class=\"fas fa-map-marker-alt\"></i> Home Office  </p><p class=\"link-vagas m-0\"><a class=\"btn azul\" href=\"vem-ser-cadmus\" onclick=\"javascript:AbrirOportunidade('18');\">Ver detalhes da vaga</a></p></div></div><div class=\"item col-md-3 text-center mt-4 portfolio-item Backend\" data-animation=\"slideInUp\" data-delay=\"1s\" style=\"position: absolute; left: 675px; top: 835px;\"><div class=\"box\"><h3>Desenvolvedor .NET/Oracle</h3><p class=\"local\"><i class=\"fas fa-map-marker-alt\"></i> Home Office </p><p class=\"link-vagas m-0\"><a class=\"btn azul\" href=\"vem-ser-cadmus\" onclick=\"javascript:AbrirOportunidade('19');\">Ver detalhes da vaga</a></p></div></div><div class=\"item col-md-3 text-center mt-4 portfolio-item Agile\" data-animation=\"slideInUp\" data-delay=\"1s\" style=\"position: absolute; left: 0px; top: 1043px;\"><div class=\"box\"><h3>Tech Lead </h3><p class=\"local\"><i class=\"fas fa-map-marker-alt\"></i> Home Office  </p><p class=\"link-vagas m-0\"><a class=\"btn azul\" href=\"vem-ser-cadmus\" onclick=\"javascript:AbrirOportunidade('20');\">Ver detalhes da vaga</a></p></div></div><div class=\"item col-md-3 text-center mt-4 portfolio-item Agile\" data-animation=\"slideInUp\" data-delay=\"1s\" style=\"position: absolute; left: 225px; top: 1043px;\"><div class=\"box\"><h3>QA com conhecimento em Jest</h3><p class=\"local\"><i class=\"fas fa-map-marker-alt\"></i> Home Office  </p><p class=\"link-vagas m-0\"><a class=\"btn azul\" href=\"vem-ser-cadmus\" onclick=\"javascript:AbrirOportunidade('21');\">Ver detalhes da vaga</a></p></div></div><div class=\"item col-md-3 text-center mt-4 portfolio-item Backend\" data-animation=\"slideInUp\" data-delay=\"1s\" style=\"position: absolute; left: 450px; top: 1043px;\"><div class=\"box\"><h3>Desenvolvedor RPA </h3><p class=\"local\"><i class=\"fas fa-map-marker-alt\"></i> Home Office  </p><p class=\"link-vagas m-0\"><a class=\"btn azul\" href=\"vem-ser-cadmus\" onclick=\"javascript:AbrirOportunidade('22');\">Ver detalhes da vaga</a></p></div></div><div class=\"item col-md-3 text-center mt-4 portfolio-item Fullstack\" data-animation=\"slideInUp\" data-delay=\"1s\" style=\"position: absolute; left: 675px; top: 1043px;\"><div class=\"box\"><h3>Desenvolvedor Full Stack </h3><p class=\"local\"><i class=\"fas fa-map-marker-alt\"></i> Home Office  </p><p class=\"link-vagas m-0\"><a class=\"btn azul\" href=\"vem-ser-cadmus\" onclick=\"javascript:AbrirOportunidade('23');\">Ver detalhes da vaga</a></p></div></div><div class=\"item col-md-3 text-center mt-4 portfolio-item Frontend\" data-animation=\"slideInUp\" data-delay=\"1s\" style=\"position: absolute; left: 0px; top: 1252px;\"><div class=\"box\"><h3>Desenvolvedor FontEnd React</h3><p class=\"local\"><i class=\"fas fa-map-marker-alt\"></i> Home Office  </p><p class=\"link-vagas m-0\"><a class=\"btn azul\" href=\"vem-ser-cadmus\" onclick=\"javascript:AbrirOportunidade('24');\">Ver detalhes da vaga</a></p></div></div><div class=\"item col-md-3 text-center mt-4 portfolio-item Backend\" data-animation=\"slideInUp\" data-delay=\"1s\" style=\"position: absolute; left: 225px; top: 1252px;\"><div class=\"box\"><h3>Desenvolvedor Back End Java </h3><p class=\"local\"><i class=\"fas fa-map-marker-alt\"></i> Home Office  </p><p class=\"link-vagas m-0\"><a class=\"btn azul\" href=\"vem-ser-cadmus\" onclick=\"javascript:AbrirOportunidade('25');\">Ver detalhes da vaga</a></p></div></div><div class=\"item col-md-3 text-center mt-4 portfolio-item Backend\" data-animation=\"slideInUp\" data-delay=\"1s\" style=\"position: absolute; left: 450px; top: 1252px;\"><div class=\"box\"><h3>Analista de Processos RPA </h3><p class=\"local\"><i class=\"fas fa-map-marker-alt\"></i> Home Office  </p><p class=\"link-vagas m-0\"><a class=\"btn azul\" href=\"vem-ser-cadmus\" onclick=\"javascript:AbrirOportunidade('26');\">Ver detalhes da vaga</a></p></div></div><div class=\"item col-md-3 text-center mt-4 portfolio-item Backend\" data-animation=\"slideInUp\" data-delay=\"1s\" style=\"position: absolute; left: 675px; top: 1252px;\"><div class=\"box\"><h3>Analista de NOC Jr III</h3><p class=\"local\"><i class=\"fas fa-map-marker-alt\"></i> São Paulo </p><p class=\"link-vagas m-0\"><a class=\"btn azul\" href=\"vem-ser-cadmus\" onclick=\"javascript:AbrirOportunidade('27');\">Ver detalhes da vaga</a></p></div></div><div class=\"item col-md-3 text-center mt-4 portfolio-item Backend\" data-animation=\"slideInUp\" data-delay=\"1s\" style=\"position: absolute; left: 0px; top: 1461px;\"><div class=\"box\"><h3>Dev Peoplesoft - ERP</h3><p class=\"local\"><i class=\"fas fa-map-marker-alt\"></i> São Paulo </p><p class=\"link-vagas m-0\"><a class=\"btn azul\" href=\"vem-ser-cadmus\" onclick=\"javascript:AbrirOportunidade('28');\">Ver detalhes da vaga</a></p></div></div><div class=\"item col-md-3 text-center mt-4 portfolio-item Infra\" data-animation=\"slideInUp\" data-delay=\"1s\" style=\"position: absolute; left: 225px; top: 1461px;\"><div class=\"box\"><h3>Estágio Logistica </h3><p class=\"local\"><i class=\"fas fa-map-marker-alt\"></i> São Judas - SP  </p><p class=\"link-vagas m-0\"><a class=\"btn azul\" href=\"vem-ser-cadmus\" onclick=\"javascript:AbrirOportunidade('29');\">Ver detalhes da vaga</a></p></div></div><div class=\"item col-md-3 text-center mt-4 portfolio-item Infra\" data-animation=\"slideInUp\" data-delay=\"1s\" style=\"position: absolute; left: 450px; top: 1461px;\"><div class=\"box\"><h3>Estágio em TI </h3><p class=\"local\"><i class=\"fas fa-map-marker-alt\"></i> São Judas - SP  </p><p class=\"link-vagas m-0\"><a class=\"btn azul\" href=\"vem-ser-cadmus\" onclick=\"javascript:AbrirOportunidade('30');\">Ver detalhes da vaga</a></p></div></div><div class=\"item col-md-3 text-center mt-4 portfolio-item Agile\" data-animation=\"slideInUp\" data-delay=\"1s\" style=\"position: absolute; left: 675px; top: 1461px;\"><div class=\"box\"><h3>Especialista em QA</h3><p class=\"local\"><i class=\"fas fa-map-marker-alt\"></i> Home Office </p><p class=\"link-vagas m-0\"><a class=\"btn azul\" href=\"vem-ser-cadmus\" onclick=\"javascript:AbrirOportunidade('31');\">Ver detalhes da vaga</a></p></div></div><div class=\"item col-md-3 text-center mt-4 portfolio-item Agile\" data-animation=\"slideInUp\" data-delay=\"1s\" style=\"position: absolute; left: 0px; top: 1670px;\"><div class=\"box\"><h3>Lider Técnico </h3><p class=\"local\"><i class=\"fas fa-map-marker-alt\"></i> Home Office  </p><p class=\"link-vagas m-0\"><a class=\"btn azul\" href=\"vem-ser-cadmus\" onclick=\"javascript:AbrirOportunidade('32');\">Ver detalhes da vaga</a></p></div></div><div class=\"item col-md-3 text-center mt-4 portfolio-item Infra\" data-animation=\"slideInUp\" data-delay=\"1s\" style=\"position: absolute; left: 225px; top: 1670px;\"><div class=\"box\"><h3>Analista Service Desk Jr I </h3><p class=\"local\"><i class=\"fas fa-map-marker-alt\"></i> Home Office </p><p class=\"link-vagas m-0\"><a class=\"btn azul\" href=\"vem-ser-cadmus\" onclick=\"javascript:AbrirOportunidade('33');\">Ver detalhes da vaga</a></p></div></div><div class=\"item col-md-3 text-center mt-4 portfolio-item Backend\" data-animation=\"slideInUp\" data-delay=\"1s\" style=\"position: absolute; left: 450px; top: 1670px;\"><div class=\"box\"><h3>Desenvolvedor BackEnd Java - Springboot </h3><p class=\"local\"><i class=\"fas fa-map-marker-alt\"></i> Home Office  </p><p class=\"link-vagas m-0\"><a class=\"btn azul\" href=\"vem-ser-cadmus\" onclick=\"javascript:AbrirOportunidade('34');\">Ver detalhes da vaga</a></p></div></div><div class=\"item col-md-3 text-center mt-4 portfolio-item Fullstack\" data-animation=\"slideInUp\" data-delay=\"1s\" style=\"position: absolute; left: 675px; top: 1670px;\"><div class=\"box\"><h3>Desenvolvedor FullStack</h3><p class=\"local\"><i class=\"fas fa-map-marker-alt\"></i> São Paulo </p><p class=\"link-vagas m-0\"><a class=\"btn azul\" href=\"vem-ser-cadmus\" onclick=\"javascript:AbrirOportunidade('35');\">Ver detalhes da vaga</a></p></div></div></div>\"\"\""
   ]
  },
  {
   "cell_type": "code",
   "execution_count": 69,
   "metadata": {},
   "outputs": [],
   "source": [
    "#Parser HTML\n",
    "soup = BeautifulSoup(html_vagas,'html.parser')"
   ]
  },
  {
   "cell_type": "code",
   "execution_count": 70,
   "metadata": {},
   "outputs": [
    {
     "name": "stdout",
     "output_type": "stream",
     "text": [
      "[('Analista de Sistemas Sênior ', ' Morumbi - SP '), ('Analista de Infraestrutura Bilingue', ' Alphaville - SP '), ('Analista de Teste ', ' Home Office '), ('Analista Jurídico Pl II', ' Alphaville - SP '), ('Analista BI', ' Home Office  '), ('Scrum Master', ' Home Office '), ('Tech Lead - Mobile ', ' Home office '), ('Agile Master ', ' Home Office '), ('Desenvolvedor Mobile - Flutter ', ' home office '), ('Engenheiro de Software Java Especialista', ' São Paulo '), ('Desenvolvedor Móbile Sênior', ' São Paulo '), ('Desenvolvedor Backend Sr', ' São Paulo '), ('Engenheiro de Software Sr (.NET Core e/ou Node.js)', ' São Paulo '), ('Analista SOA.', ' São Paulo '), ('UX/UI Designer Pleno', ' Home Office '), (' Desenvolvedor Back End NodeJS ', ' Home office '), ('Scrum Master', ' Home Office '), ('Scrum Master ', ' Home Office  '), ('Desenvolvedor .NET ', ' Home Office  '), ('Desenvolvedor .NET/Oracle', ' Home Office '), ('Tech Lead ', ' Home Office  '), ('QA com conhecimento em Jest', ' Home Office  '), ('Desenvolvedor RPA ', ' Home Office  '), ('Desenvolvedor Full Stack ', ' Home Office  '), ('Desenvolvedor FontEnd React', ' Home Office  '), ('Desenvolvedor Back End Java ', ' Home Office  '), ('Analista de Processos RPA ', ' Home Office  '), ('Analista de NOC Jr III', ' São Paulo '), ('Dev Peoplesoft - ERP', ' São Paulo '), ('Estágio Logistica ', ' São Judas - SP  '), ('Estágio em TI ', ' São Judas - SP  '), ('Especialista em QA', ' Home Office '), ('Lider Técnico ', ' Home Office  '), ('Analista Service Desk Jr I ', ' Home Office '), ('Desenvolvedor BackEnd Java - Springboot ', ' Home Office  '), ('Desenvolvedor FullStack', ' São Paulo ')]\n"
     ]
    }
   ],
   "source": [
    "#Raspagem de Pagina e criação da lista\n",
    "vagas = soup.find_all(\"h3\")\n",
    "cidades = soup.find_all(\"p\", attrs={\"class\": \"local\"})\n",
    "ListVagas = []\n",
    "for vaga, cidade in zip(vagas, cidades):\n",
    "    ListVagas.append((vaga.text, cidade.text))\n",
    "\n",
    "print(ListVagas)\n"
   ]
  },
  {
   "cell_type": "code",
   "execution_count": 71,
   "metadata": {},
   "outputs": [],
   "source": [
    "#Criação do DataFrame no Pandas / Convertendo para HTML\n",
    "Vagas_df = pd.DataFrame(ListVagas, columns=['Vaga','Local'])"
   ]
  },
  {
   "cell_type": "code",
   "execution_count": 72,
   "metadata": {},
   "outputs": [],
   "source": [
    "#Criação do arquivo xlsx / html\n",
    "VagasHTML = Vagas_df.to_html()\n",
    "Vagas_df.to_excel('RelatorioDeVagas.xlsx',index=False)\n"
   ]
  },
  {
   "cell_type": "code",
   "execution_count": 73,
   "metadata": {},
   "outputs": [],
   "source": [
    "#Dados para o Relatório\n",
    "data_atual = date.today()\n",
    "Data = '{}/{}/{}'.format(data_atual.day, data_atual.month,data_atual.year)\n",
    "Qtn_Vagas = len(ListVagas)\n"
   ]
  },
  {
   "cell_type": "code",
   "execution_count": 74,
   "metadata": {},
   "outputs": [
    {
     "data": {
      "text/plain": [
       "<COMObject Add>"
      ]
     },
     "execution_count": 74,
     "metadata": {},
     "output_type": "execute_result"
    }
   ],
   "source": [
    "#Configurações  do Email\n",
    "outlook = win32.Dispatch('outlook.application')\n",
    "email = outlook.CreateItem(0)\n",
    "email.To = \"tomkelve2019@gmail.com\"\n",
    "email.subject = \"Relatorio de Vagas - Cadmus\"\n",
    "Relatorio = \"D:/Cadmus/RelatorioDeVagas.xlsx\"\n",
    "email.Attachments.Add(Relatorio)\n",
    "\n"
   ]
  },
  {
   "cell_type": "code",
   "execution_count": 75,
   "metadata": {},
   "outputs": [
    {
     "name": "stdout",
     "output_type": "stream",
     "text": [
      "Email Enviado\n"
     ]
    }
   ],
   "source": [
    "#Corpo do Email\n",
    "email.HTMLBody = f\"\"\"\n",
    "<p>Olá, tudo bem?</p>\n",
    "<p>Esse é um relatorio datado {Data},o qual nos informa que, a Cadmus possuí {Qtn_Vagas} setores com vagas em aberto. </p>\n",
    "{VagasHTML}\n",
    "\n",
    "<p>Desde já, agradeço pela atenção!</p>\n",
    "<p>Um abraço,</p> \n",
    "<p>Automação Python</p>\n",
    "\"\"\"\n",
    "email.Send()\n",
    "print(\"Email Enviado\")\n"
   ]
  }
 ],
 "metadata": {
  "interpreter": {
   "hash": "e81d1ac5b4000526e6f052ca5aede0ed88007232318de67122a73a71687a650c"
  },
  "kernelspec": {
   "display_name": "Python 3.10.1 64-bit",
   "language": "python",
   "name": "python3"
  },
  "language_info": {
   "codemirror_mode": {
    "name": "ipython",
    "version": 3
   },
   "file_extension": ".py",
   "mimetype": "text/x-python",
   "name": "python",
   "nbconvert_exporter": "python",
   "pygments_lexer": "ipython3",
   "version": "3.10.1"
  },
  "orig_nbformat": 4
 },
 "nbformat": 4,
 "nbformat_minor": 2
}
